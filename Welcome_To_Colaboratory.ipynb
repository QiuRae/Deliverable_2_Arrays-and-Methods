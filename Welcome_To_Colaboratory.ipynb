{
  "cells": [
    {
      "cell_type": "markdown",
      "metadata": {
        "id": "view-in-github",
        "colab_type": "text"
      },
      "source": [
        "<a href=\"https://colab.research.google.com/github/QiuRae/Deliverable_2_Arrays-and-Methods/blob/master/Welcome_To_Colaboratory.ipynb\" target=\"_parent\"><img src=\"https://colab.research.google.com/assets/colab-badge.svg\" alt=\"Open In Colab\"/></a>"
      ]
    },
    {
      "cell_type": "code",
      "source": [
        "import random"
      ],
      "metadata": {
        "id": "XhHeqpUMyBH0"
      },
      "execution_count": 1,
      "outputs": []
    },
    {
      "cell_type": "code",
      "source": [
        "# Step(1) Randomly populate a list with integers between 10 and 50\n",
        "def populate_list(length):\n",
        "  return [random.randint(10,50) for _ in range(length)]"
      ],
      "metadata": {
        "id": "r9Lo93iSyGOq"
      },
      "execution_count": 2,
      "outputs": []
    },
    {
      "cell_type": "code",
      "source": [
        "# Step(2) Sum all the elements in a list\n",
        "def sum_list(lst):\n",
        "  return sum(lst)"
      ],
      "metadata": {
        "id": "jjpq9FfAyTK7"
      },
      "execution_count": 3,
      "outputs": []
    },
    {
      "cell_type": "code",
      "source": [
        "# Step(3) Loop to ask the user for input and validate it\n",
        "while True:\n",
        "  # Ask the user for an integer input between 5 and 15\n",
        "  user_entry = int(input(\"Enter an integer between 5 and 15: \"))\n",
        "  try:\n",
        "    user_entry = int(user_entry)\n",
        "    # Check if the user's entry is within the valid range\n",
        "    if user_entry >= 5 and user_entry <= 15:\n",
        "      break\n",
        "    else:\n",
        "    # Print an error message if the user's entry is not within the valid range\n",
        "      print(\"Invalid entry. Please try again.\")\n",
        "  except ValueError:\n",
        "    # Print an error message if the user's entry is not a valid integer\n",
        "    print(\"Invalid entry. Please try again.\")"
      ],
      "metadata": {
        "id": "41MzaXi_yZ37",
        "outputId": "2ca79939-fb89-426e-bb60-1b8607fdd432",
        "colab": {
          "base_uri": "https://localhost:8080/"
        }
      },
      "execution_count": 13,
      "outputs": [
        {
          "name": "stdout",
          "output_type": "stream",
          "text": [
            "Enter an integer between 5 and 15: 5\n"
          ]
        }
      ]
    },
    {
      "cell_type": "code",
      "source": [
        "# Step(4) Call populate_list function to generate a random list of integers\n",
        "lst = populate_list(user_entry)\n",
        "print(\"The elements of the array are:\", \" \".join(str(x) for x in lst))"
      ],
      "metadata": {
        "id": "h0v9dHonywnO",
        "outputId": "41b3ae50-23dd-414f-8546-83db60ef6ff7",
        "colab": {
          "base_uri": "https://localhost:8080/"
        }
      },
      "execution_count": 16,
      "outputs": [
        {
          "output_type": "stream",
          "name": "stdout",
          "text": [
            "The elements of the array are: 17 12 28 13 26\n"
          ]
        }
      ]
    },
    {
      "cell_type": "code",
      "source": [
        "# Step(5) Print the total sum to the console\n",
        "total_sum = sum_list(lst)\n",
        "print(\"The sum is:\", total_sum)"
      ],
      "metadata": {
        "id": "Y2_CRoUuy-rj",
        "outputId": "dc1aad25-d899-482a-f3c0-4e3291eb732f",
        "colab": {
          "base_uri": "https://localhost:8080/"
        }
      },
      "execution_count": 14,
      "outputs": [
        {
          "output_type": "stream",
          "name": "stdout",
          "text": [
            "The sum is: 182\n"
          ]
        }
      ]
    }
  ],
  "metadata": {
    "colab": {
      "name": "Welcome To Colaboratory",
      "toc_visible": true,
      "provenance": [],
      "include_colab_link": true
    },
    "kernelspec": {
      "display_name": "Python 3",
      "name": "python3"
    }
  },
  "nbformat": 4,
  "nbformat_minor": 0
}